{
 "cells": [
  {
   "cell_type": "code",
   "id": "initial_id",
   "metadata": {
    "collapsed": true,
    "ExecuteTime": {
     "end_time": "2024-06-19T12:50:55.981315Z",
     "start_time": "2024-06-19T12:50:54.215528Z"
    }
   },
   "source": [
    "# Importing the required libraries\n",
    "import os\n",
    "from typing import List, Optional\n",
    "\n",
    "from dotenv import load_dotenv\n",
    "from openai import OpenAI\n",
    "from pinecone import Pinecone, ServerlessSpec\n",
    "\n",
    "load_dotenv()"
   ],
   "outputs": [
    {
     "data": {
      "text/plain": [
       "True"
      ]
     },
     "execution_count": 1,
     "metadata": {},
     "output_type": "execute_result"
    }
   ],
   "execution_count": 1
  },
  {
   "metadata": {
    "ExecuteTime": {
     "end_time": "2024-06-19T12:51:12.428069Z",
     "start_time": "2024-06-19T12:51:12.417720Z"
    }
   },
   "cell_type": "code",
   "source": [
    "# Constants\n",
    "OPENAI_MODEL = \"gpt-4o\"\n",
    "MAX_TOKENS = 225\n",
    "TEMPERATURE = 0\n",
    "OPENAI_EMBEDDING_MODEL = \"text-embedding-3-small\""
   ],
   "id": "848a76820df60c76",
   "outputs": [],
   "execution_count": 3
  },
  {
   "metadata": {
    "ExecuteTime": {
     "end_time": "2024-06-19T12:51:13.203578Z",
     "start_time": "2024-06-19T12:51:13.190574Z"
    }
   },
   "cell_type": "code",
   "source": [
    "# Setting up the Pinecone client\n",
    "pinecone_client = Pinecone(api_key=os.getenv(\"PINECONE_API_KEY\"))\n",
    "spec = ServerlessSpec(cloud=os.getenv(\"PINECONE_CLOUD\"), region=os.getenv(\"PINECONE_REGION\"))\n",
    "index_name = os.getenv(\"PINECONE_INDEX_NAME\")"
   ],
   "id": "a43b9504f6bc401f",
   "outputs": [],
   "execution_count": 4
  },
  {
   "metadata": {
    "ExecuteTime": {
     "end_time": "2024-06-19T12:51:16.943311Z",
     "start_time": "2024-06-19T12:51:13.456356Z"
    }
   },
   "cell_type": "code",
   "source": [
    "if index_name in pinecone_client.list_indexes().names():\n",
    "    index = pinecone_client.Index(index_name)\n",
    "    print(index.describe_index_stats())"
   ],
   "id": "52194c84c9b60c4e",
   "outputs": [
    {
     "name": "stdout",
     "output_type": "stream",
     "text": [
      "{'dimension': 1536,\n",
      " 'index_fullness': 0.0,\n",
      " 'namespaces': {},\n",
      " 'total_vector_count': 0}\n"
     ]
    }
   ],
   "execution_count": 5
  },
  {
   "metadata": {
    "ExecuteTime": {
     "end_time": "2024-06-19T12:51:17.427083Z",
     "start_time": "2024-06-19T12:51:16.946325Z"
    }
   },
   "cell_type": "code",
   "source": [
    "# Setting up the OpenAI client\n",
    "client = OpenAI(api_key=os.getenv(\"OPENAI_API_KEY\"))"
   ],
   "id": "3fd2f0124aaf7722",
   "outputs": [],
   "execution_count": 6
  },
  {
   "metadata": {
    "ExecuteTime": {
     "end_time": "2024-06-19T12:51:17.442567Z",
     "start_time": "2024-06-19T12:51:17.428604Z"
    }
   },
   "cell_type": "code",
   "source": [
    "# chat history\n",
    "history = [\n",
    "    \"1: User: Hi there! How are you doing today? | Bot: Hello! I'm doing great, thank you! How can I assist you today?\",\n",
    "    \"2: User: What's the weather like today in New York? | Bot: Today in New York, it's sunny with a slight chance of rain.\",\n",
    "    \"3: User: Great! Do you have any good lunch suggestions? | Bot: Sure! How about trying a new salad recipe?\",\n",
    "    \"4: User: That sounds healthy. Any specific recipes? | Bot: You could try a quinoa salad with avocado and chicken.\",\n",
    "    \"5: User: Sounds delicious! I'll try it. What about dinner? | Bot: For dinner, you could make grilled salmon with vegetables.\",\n",
    "    \"6: User: Thanks for the suggestions! Any dessert ideas? | Bot: How about a simple fruit salad or yogurt with honey?\",\n",
    "    \"7: User: Perfect! Now, what are some good exercises? | Bot: You can try a mix of cardio and strength training exercises.\",\n",
    "    \"8: User: Any specific recommendations for cardio? | Bot: Running, cycling, and swimming are all excellent cardio exercises.\",\n",
    "    \"9: User: I'll start with running. Can you recommend any books? | Bot: 'Atomic Habits' by James Clear is a highly recommended book.\",\n",
    "    \"10: User: I'll check it out. What hobbies can I take up? | Bot: You could explore painting, hiking, or learning a new instrument.\",\n",
    "    \"11: User: Hiking sounds fun! Any specific trails? | Bot: There are great trails in the Rockies and the Appalachian Mountains.\",\n",
    "    \"12: User: I'll plan a trip. What about indoor activities? | Bot: Indoor activities like reading, cooking, or playing board games.\",\n",
    "    \"13: User: Nice! Any good board games? | Bot: Settlers of Catan and Ticket to Ride are both excellent choices.\",\n",
    "    \"14: User: I'll try them out. Any movie recommendations? | Bot: 'Inception' and 'The Matrix' are must-watch movies.\",\n",
    "    \"15: User: I love those movies! Any TV shows? | Bot: 'Breaking Bad' and 'Stranger Things' are very popular.\",\n",
    "    \"16: User: Great choices! What about podcasts? | Bot: 'How I Built This' and 'The Daily' are very informative.\",\n",
    "    \"17: User: Thanks! What are some good travel destinations? | Bot: Paris, Tokyo, and Bali are amazing travel spots.\",\n",
    "    \"18: User: I'll add them to my list. Any packing tips? | Bot: Roll your clothes to save space and use packing cubes.\",\n",
    "    \"19: User: That's helpful! What about travel insurance? | Bot: Always get travel insurance for safety and peace of mind.\",\n",
    "    \"20: User: Thanks for the tips! Any last advice? | Bot: Just enjoy your journey and make the most out of your experiences.\"\n",
    "]"
   ],
   "id": "89255345f4bfd640",
   "outputs": [],
   "execution_count": 7
  },
  {
   "metadata": {},
   "cell_type": "code",
   "outputs": [],
   "execution_count": null,
   "source": [
    "def initialize_pinecone_index(pc_client, pinecone_index_name: Optional[str] = 'chat-history'):\n",
    "    \"\"\"\n",
    "    Initialize a Pinecone index for storing chat history.\n",
    "\n",
    "    Parameters:\n",
    "    pc_client (Pinecone): The Pinecone client.\n",
    "    pinecone_index_name (str, optional): The name of the Pinecone index. Defaults to 'chat-history'.\n",
    "\n",
    "    Returns:\n",
    "    pinecone.Index: The initialized Pinecone index, or None if the index does not exist.\n",
    "    \"\"\"\n",
    "    pinecone_index = None\n",
    "    try:\n",
    "\n",
    "        # Check if the index exists\n",
    "        if pinecone_index_name in pc_client.list_indexes().names():\n",
    "            pinecone_index = pc_client.Index(pinecone_index_name)\n",
    "        else:\n",
    "            print(f\"Index '{pinecone_index_name}' does not exist.\")\n",
    "    except Exception as e:\n",
    "        print(f\"An unexpected error occurred: {e}\")\n",
    "    finally:\n",
    "        print(\"Finished initializing Pinecone index.\")\n",
    "        return pinecone_index"
   ],
   "id": "271acb63096d5879"
  },
  {
   "metadata": {
    "ExecuteTime": {
     "end_time": "2024-06-19T12:54:57.708161Z",
     "start_time": "2024-06-19T12:54:57.696366Z"
    }
   },
   "cell_type": "code",
   "source": [
    "def get_embeddings(message: str, model: Optional[str] = OPENAI_EMBEDDING_MODEL):\n",
    "    \"\"\"\n",
    "    Encode a message using OpenAI's text-embedding model.\n",
    "\n",
    "    Parameters:\n",
    "    message (str): The message to be encoded.\n",
    "    model (str, optional): The model to be used for encoding. Defaults to OPENAI_EMBEDDING_MODEL.\n",
    "\n",
    "    Returns:\n",
    "    list: The encoded message.\n",
    "    \"\"\"\n",
    "    return client.embeddings.create(input=message, model=model).data[0].embedding"
   ],
   "id": "84ca002fcd294055",
   "outputs": [],
   "execution_count": 13
  },
  {
   "metadata": {
    "ExecuteTime": {
     "end_time": "2024-06-19T12:55:35.148545Z",
     "start_time": "2024-06-19T12:55:35.139541Z"
    }
   },
   "cell_type": "code",
   "source": [
    "def add_embeddings_to_pinecone(chat_history: List[str], pc_client,\n",
    "                               pinecone_index_name: Optional[str] = 'chat-history'):\n",
    "    \"\"\"\n",
    "    Add embeddings to Pinecone index.\n",
    "\n",
    "    Parameters:\n",
    "    chat_history (List[str]): The chat history to be added to the Pinecone index.\n",
    "    pc_client (Pinecone): The Pinecone client.\n",
    "    pinecone_index_name (str, optional): The name of the Pinecone index. Defaults to 'chat-history'.\n",
    "\n",
    "    Raises:\n",
    "    ValueError: If the specified Pinecone index does not exist.\n",
    "\n",
    "    Returns:\n",
    "    None\n",
    "    \"\"\"\n",
    "    try:\n",
    "        # Initialize Pinecone index\n",
    "        pinecone_index = initialize_pinecone_index(pc_client, pinecone_index_name)\n",
    "        if pinecone_index is None:\n",
    "            raise ValueError(f\"Index {pinecone_index_name} does not exist.\")\n",
    "\n",
    "        embeddings = []\n",
    "        for i, message in enumerate(chat_history):\n",
    "            embedding = get_embeddings(message)\n",
    "            embeddings.append({\n",
    "                'id': str(i + 1),\n",
    "                'values': embedding,\n",
    "                'metadata': {'text': message}\n",
    "            })\n",
    "        pinecone_index.upsert(vectors=embeddings)\n",
    "\n",
    "    except ValueError as ve:\n",
    "        print(f\"ValueError: {ve}\")\n",
    "    except Exception as e:\n",
    "        print(f\"An unexpected error occurred: {e}\")\n",
    "    finally:\n",
    "        print(\"Finished processing embeddings.\")"
   ],
   "id": "6289d92ad6093c12",
   "outputs": [],
   "execution_count": 16
  },
  {
   "metadata": {},
   "cell_type": "code",
   "source": [
    "def retrieve_relevant_history(query: str, pc_client, top_k: Optional[int] = 3,\n",
    "                              pinecone_index_name: Optional[str] = 'chat-history',\n",
    "                                  should_include_metadata: Optional[bool] = False):\n",
    "    \"\"\"\n",
    "    Retrieve the most relevant message from the chat history based on the query.\n",
    "\n",
    "    Parameters:\n",
    "    query (str): The query to be used for searching the chat history.\n",
    "    pc_client (Pinecone): The Pinecone client.\n",
    "    top_k (int, optional): The number of most relevant messages to retrieve. Defaults to 3.\n",
    "    pinecone_index_name (str, optional): The name of the Pinecone index. Defaults to 'chat-history'.\n",
    "    should_include_metadata (bool, optional): Whether to include metadata in the search results. Defaults to False.\n",
    "\n",
    "    Raises:\n",
    "    ValueError: If the specified Pinecone index does not exist.\n",
    "\n",
    "    Returns:\n",
    "    str: The most relevant message from the chat history.\n",
    "    \"\"\"\n",
    "    try:\n",
    "        # Initialize Pinecone index\n",
    "        pinecone_index = initialize_pinecone_index(pc_client, pinecone_index_name)\n",
    "        if pinecone_index is None:\n",
    "            raise ValueError(f\"Index {pinecone_index_name} does not exist.\")\n",
    "\n",
    "        # Get embeddings for the query\n",
    "        query_embedding = get_embeddings(query)\n",
    "\n",
    "        # Search for the most relevant message in the chat history\n",
    "        search_results = pinecone_index.query(queries=[query_embedding], top_k=top_k,\n",
    "                                              include_metadata=should_include_metadata)\n",
    "\n",
    "        # Get the most relevant message\n",
    "        relevant_message = search_results[0].hits[0].metadata['text']\n",
    "\n",
    "        return relevant_message\n",
    "\n",
    "    except ValueError as ve:\n",
    "        print(f\"ValueError: {ve}\")\n",
    "    except Exception as e:\n",
    "        print(f\"An unexpected error occurred: {e}\")\n",
    "    finally:\n",
    "        print(\"Finished retrieving relevant history.\")"
   ],
   "id": "5e49fad6e1d93c67",
   "outputs": [],
   "execution_count": null
  }
 ],
 "metadata": {
  "kernelspec": {
   "display_name": "Python 3",
   "language": "python",
   "name": "python3"
  },
  "language_info": {
   "codemirror_mode": {
    "name": "ipython",
    "version": 2
   },
   "file_extension": ".py",
   "mimetype": "text/x-python",
   "name": "python",
   "nbconvert_exporter": "python",
   "pygments_lexer": "ipython2",
   "version": "2.7.6"
  }
 },
 "nbformat": 4,
 "nbformat_minor": 5
}
